{
 "cells": [
  {
   "cell_type": "code",
   "execution_count": 1,
   "metadata": {},
   "outputs": [],
   "source": [
    "import pandas as pd\n",
    "import numpy as np\n",
    "\n",
    "\n",
    "\n"
   ]
  },
  {
   "cell_type": "code",
   "execution_count": 2,
   "metadata": {},
   "outputs": [
    {
     "name": "stderr",
     "output_type": "stream",
     "text": [
      "/anaconda3/lib/python3.7/site-packages/IPython/core/interactiveshell.py:3020: DtypeWarning: Columns (1) have mixed types. Specify dtype option on import or set low_memory=False.\n",
      "  interactivity=interactivity, compiler=compiler, result=result)\n"
     ]
    }
   ],
   "source": [
    "bank_account=pd.read_csv(\"Undergraudate Round 2 (1)/bank_accounts.csv\")\n",
    "card = pd.read_csv(\"Undergraudate Round 2 (1)/credit_cards.csv\")\n",
    "divice=pd.read_csv(\"Undergraudate Round 2 (1)/devices.csv\")\n",
    "order=pd.read_csv(\"Undergraudate Round 2 (1)/orders.csv\")\n",
    "                         "
   ]
  },
  {
   "cell_type": "code",
   "execution_count": 3,
   "metadata": {},
   "outputs": [],
   "source": [
    "# check if buyer id == user id;\n",
    "orderid=order[\"orderid\"].tolist()\n",
    "buyerid=order[\"buyer_userid\"].tolist()\n",
    "sellerid=order[\"seller_userid\"].tolist()\n",
    "buyerid=np.array(buyerid)\n",
    "userid=np.array(sellerid)\n",
    "compare=(buyerid==userid)\n",
    "output=len(orderid)*[0]\n",
    "for i in range(len(compare)):\n",
    "    if compare[i]==True:\n",
    "        output[i]=1\n",
    "\n"
   ]
  },
  {
   "cell_type": "code",
   "execution_count": null,
   "metadata": {},
   "outputs": [],
   "source": [
    "card.iloc[[2]][\"userid\"]"
   ]
  },
  {
   "cell_type": "code",
   "execution_count": 4,
   "metadata": {},
   "outputs": [],
   "source": [
    "card_user=card[\"userid\"].tolist()\n",
    "\n",
    "cardnumber=card[\"credit_card\"].tolist()\n"
   ]
  },
  {
   "cell_type": "code",
   "execution_count": 5,
   "metadata": {},
   "outputs": [],
   "source": [
    "device_user=divice[\"userid\"].tolist()\n",
    "device_number=divice[\"device\"].tolist()"
   ]
  },
  {
   "cell_type": "code",
   "execution_count": 6,
   "metadata": {},
   "outputs": [],
   "source": [
    "bank_user=bank_account[\"userid\"].tolist()\n",
    "bank_number=bank_account[\"bank_account\"].tolist()"
   ]
  },
  {
   "cell_type": "code",
   "execution_count": null,
   "metadata": {},
   "outputs": [],
   "source": [
    "# check if same card:\n",
    "for i in np.where(np.array(output)==0)[0]:\n",
    "    id1=buyerid[i]\n",
    "    id2=userid[i]\n",
    "    try:\n",
    "        if cardnumber[card_user.index(id1)]==cardnumber[card_user.index(id2)]:\n",
    "            output[i]=1\n",
    "    except:\n",
    "        output[i]=1\n",
    "        \n",
    "    "
   ]
  },
  {
   "cell_type": "code",
   "execution_count": null,
   "metadata": {},
   "outputs": [],
   "source": [
    "for i in np.where(np.array(output)==0)[0]:\n",
    "    id1=buyerid[i]\n",
    "    id2=userid[i]\n",
    "    try:\n",
    "        if device_number[device_user.index(id1)]==device_number[device_user.index(id2)]:\n",
    "            output[i]=1\n",
    "    except:\n",
    "        output[i]=1"
   ]
  },
  {
   "cell_type": "code",
   "execution_count": null,
   "metadata": {},
   "outputs": [],
   "source": [
    "for i in np.where(np.array(output)==0)[0]:\n",
    "    id1=buyerid[i]\n",
    "    id2=userid[i]\n",
    "    try:\n",
    "        if bank_number[bank_user.index(id1)]==bank_number[bank_user.index(id2)]:\n",
    "            output[i]=1\n",
    "    except:\n",
    "        output[i]=1"
   ]
  },
  {
   "cell_type": "code",
   "execution_count": null,
   "metadata": {},
   "outputs": [],
   "source": [
    "dic={\"orderid\":orderid,\"is_fraud\":output}\n",
    "df = pd.DataFrame(dic)\n",
    "df.to_csv('round2.csv') "
   ]
  },
  {
   "cell_type": "code",
   "execution_count": null,
   "metadata": {},
   "outputs": [],
   "source": []
  }
 ],
 "metadata": {
  "kernelspec": {
   "display_name": "Python 3",
   "language": "python",
   "name": "python3"
  },
  "language_info": {
   "codemirror_mode": {
    "name": "ipython",
    "version": 3
   },
   "file_extension": ".py",
   "mimetype": "text/x-python",
   "name": "python",
   "nbconvert_exporter": "python",
   "pygments_lexer": "ipython3",
   "version": "3.7.1"
  }
 },
 "nbformat": 4,
 "nbformat_minor": 2
}
