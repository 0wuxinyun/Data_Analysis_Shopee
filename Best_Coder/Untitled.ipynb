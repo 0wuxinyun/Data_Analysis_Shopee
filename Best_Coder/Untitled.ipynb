{
 "cells": [
  {
   "cell_type": "code",
   "execution_count": 1,
   "metadata": {},
   "outputs": [],
   "source": [
    "import pandas as pd\n",
    "import numpy as np\n"
   ]
  },
  {
   "cell_type": "code",
   "execution_count": 2,
   "metadata": {},
   "outputs": [],
   "source": [
    "data=pd.read_csv(\"undrg-rd1-listings/Extra Material 2 - keyword list_with substring.csv\")"
   ]
  },
  {
   "cell_type": "code",
   "execution_count": 3,
   "metadata": {},
   "outputs": [],
   "source": [
    "data2=pd.read_csv(\"undrg-rd1-listings/Keyword_spam_question.csv\")"
   ]
  },
  {
   "cell_type": "code",
   "execution_count": 4,
   "metadata": {},
   "outputs": [],
   "source": [
    "# get category:\n",
    "category=data[\"Keywords\"].tolist()\n",
    "set_category=[]\n",
    "\n",
    "\n",
    "for i in category:\n",
    "    line=i.split(\",\")\n",
    "    set_category+=line\n",
    "\n",
    "set_category=list(set(set_category))"
   ]
  },
  {
   "cell_type": "code",
   "execution_count": 5,
   "metadata": {},
   "outputs": [],
   "source": [
    "i=0\n",
    "new_category=category[:]\n",
    "for line in category:\n",
    "    thisline=line.split(\",\")\n",
    "    index_list=[]\n",
    "    for cate in thisline:\n",
    "        index_list.append(set_category.index(cate))\n",
    "    new_category[i]=index_list\n",
    "    i+=1\n"
   ]
  },
  {
   "cell_type": "code",
   "execution_count": 55,
   "metadata": {},
   "outputs": [
    {
     "data": {
      "text/plain": [
       "[229, 829]"
      ]
     },
     "execution_count": 55,
     "metadata": {},
     "output_type": "execute_result"
    }
   ],
   "source": [
    "new_category[0]"
   ]
  },
  {
   "cell_type": "code",
   "execution_count": 6,
   "metadata": {},
   "outputs": [],
   "source": [
    "names=data2[\"name\"].tolist()\n",
    "new_names=names[:]\n",
    "i=0\n",
    "for line in names:\n",
    "    find_list=[]\n",
    "    for cate in set_category:\n",
    "        find_liao=line.find(cate)\n",
    "        if line.find(cate)>=0:\n",
    "            find_list.append(find_liao)\n",
    "    new_names[i]=find_list\n",
    "    i+=1\n",
    "    \n",
    "        "
   ]
  },
  {
   "cell_type": "code",
   "execution_count": 8,
   "metadata": {},
   "outputs": [],
   "source": [
    "answer=names[:]\n",
    "m=0\n",
    "for i in new_names:\n",
    "    t=0\n",
    "    t_list=[]\n",
    "    for j in new_category:\n",
    "        \n",
    "        if i==j:\n",
    "            t_list.append(t)\n",
    "    answer[m]=t_list\n",
    "    m+=1\n",
    "    "
   ]
  },
  {
   "cell_type": "code",
   "execution_count": 11,
   "metadata": {},
   "outputs": [],
   "source": [
    "dic={\"index\": range(1,800001),\"groups_found\":answer}\n",
    "df = pd.DataFrame(dic)\n",
    "df.to_csv('file1.csv') "
   ]
  },
  {
   "cell_type": "code",
   "execution_count": null,
   "metadata": {},
   "outputs": [],
   "source": []
  }
 ],
 "metadata": {
  "kernelspec": {
   "display_name": "Python 3",
   "language": "python",
   "name": "python3"
  },
  "language_info": {
   "codemirror_mode": {
    "name": "ipython",
    "version": 3
   },
   "file_extension": ".py",
   "mimetype": "text/x-python",
   "name": "python",
   "nbconvert_exporter": "python",
   "pygments_lexer": "ipython3",
   "version": "3.7.1"
  }
 },
 "nbformat": 4,
 "nbformat_minor": 2
}
